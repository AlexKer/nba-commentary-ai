{
 "cells": [
  {
   "cell_type": "code",
   "execution_count": null,
   "metadata": {},
   "outputs": [],
   "source": [
    "# This notebook is adapted from the OpenAI cookbook. \n",
    "from IPython.display import display, Image, Audio\n",
    "\n",
    "import cv2  # We're using OpenCV to read video\n",
    "import base64\n",
    "import time\n",
    "import openai\n",
    "import os\n",
    "import requests"
   ]
  },
  {
   "cell_type": "code",
   "execution_count": null,
   "metadata": {},
   "outputs": [],
   "source": [
    "video = cv2.VideoCapture(\"data/dam.mp4\")\n",
    "\n",
    "base64Frames = []\n",
    "while video.isOpened():\n",
    "    success, frame = video.read()\n",
    "    if not success:\n",
    "        break\n",
    "    _, buffer = cv2.imencode(\".jpg\", frame)\n",
    "    base64Frames.append(base64.b64encode(buffer).decode(\"utf-8\"))\n",
    "\n",
    "video.release()\n",
    "print(len(base64Frames), \"frames read.\")"
   ]
  },
  {
   "cell_type": "code",
   "execution_count": null,
   "metadata": {},
   "outputs": [],
   "source": [
    "display_handle = display(None, display_id=True)\n",
    "for img in base64Frames:\n",
    "    display_handle.update(Image(data=base64.b64decode(img.encode(\"utf-8\"))))\n",
    "    time.sleep(0.025)"
   ]
  },
  {
   "cell_type": "code",
   "execution_count": null,
   "metadata": {},
   "outputs": [],
   "source": [
    "# simple video processing\n",
    "# videos are 30fps, pass in a sample every 5 seconds so we don't hit rate limit 10k tokens/min\n",
    "PROMPT_MESSAGES = [\n",
    "    {\n",
    "        \"role\": \"user\",\n",
    "        \"content\": [\n",
    "            \"These are frames of a video. Create a short voiceover script in the style of Mike Breen. Damian Lillard is the player who scored the buzzer beater, series winner, against Paul George. Make output to be readable in 30s. Don't include context, just commentary.\",\n",
    "            *map(lambda x: {\"image\": x, \"resize\": 768}, base64Frames[0::150]),\n",
    "        ],\n",
    "    },\n",
    "]\n",
    "params = {\n",
    "    \"model\": \"gpt-4-vision-preview\",\n",
    "    \"messages\": PROMPT_MESSAGES,\n",
    "    \"api_key\": os.environ[\"OPENAI_API_KEY\"],\n",
    "    \"headers\": {\"Openai-Version\": \"2020-11-07\"},\n",
    "    \"max_tokens\": 500,\n",
    "}\n",
    "\n",
    "result = openai.ChatCompletion.create(**params)\n",
    "print(result.choices[0].message.content)"
   ]
  },
  {
   "cell_type": "code",
   "execution_count": null,
   "metadata": {},
   "outputs": [],
   "source": [
    "# [Optional] may have to use this chunking code to splice video if video is too long.\n",
    "import time\n",
    "\n",
    "def chunk_frames(frames, chunk_size):\n",
    "    \"\"\"Yield successive n-sized chunks from frames.\"\"\"\n",
    "    for i in range(0, len(frames), chunk_size):\n",
    "        yield frames[i:i + chunk_size]\n",
    "\n",
    "# Define the chunk size, 150 is reasonable\n",
    "chunk_size = 150\n",
    "\n",
    "# Chunk the frames\n",
    "chunked_frames = list(chunk_frames(base64Frames, chunk_size))\n",
    "\n",
    "# Now you can use chunked_frames in your code\n",
    "results = []\n",
    "for frames in chunked_frames:\n",
    "    PROMPT_MESSAGES = [\n",
    "        {\n",
    "            \"role\": \"user\",\n",
    "            \"content\": [\n",
    "                \"These are frames of a video. Create a short voiceover script in the style of Mike Breen. Damian Lillard is the player who scored the buzzer beater, series winner, against Paul George. Make output to be readable in 30s. Don't include context, just commentary.\",\n",
    "                *map(lambda x: {\"image\": x, \"resize\": 768}, frames[0::10]),\n",
    "            ],\n",
    "        },\n",
    "    ]\n",
    "    params = {\n",
    "        \"model\": \"gpt-4-vision-preview\",\n",
    "        \"messages\": PROMPT_MESSAGES,\n",
    "        \"api_key\": os.environ[\"OPENAI_API_KEY\"],\n",
    "        \"headers\": {\"Openai-Version\": \"2020-11-07\"},\n",
    "        \"max_tokens\": 500,\n",
    "    }\n",
    "\n",
    "    result = openai.ChatCompletion.create(**params)\n",
    "    results.append(result.choices[0].message.content)\n",
    "    time.sleep(60)  # Sleep for 60 seconds to avoid hitting the rate limit\n",
    "\n",
    "# Now, 'results' contains the results of all the create calls\n",
    "print(results)"
   ]
  },
  {
   "cell_type": "code",
   "execution_count": null,
   "metadata": {},
   "outputs": [],
   "source": [
    "response = requests.post(\n",
    "    \"https://api.openai.com/v1/audio/speech\",\n",
    "    headers={\n",
    "        \"Authorization\": f\"Bearer {os.environ['OPENAI_API_KEY']}\",\n",
    "    },\n",
    "    json={\n",
    "        \"model\": \"tts-1\",\n",
    "        \"input\": result.choices[0].message.content,\n",
    "        \"voice\": \"onyx\",\n",
    "    },\n",
    ")\n",
    "\n",
    "audio = b\"\"\n",
    "for chunk in response.iter_content(chunk_size=1024 * 1024):\n",
    "    audio += chunk\n",
    "Audio(audio)"
   ]
  },
  {
   "cell_type": "code",
   "execution_count": null,
   "metadata": {},
   "outputs": [],
   "source": [
    "with open('output.mp3', 'wb') as file:\n",
    "    file.write(audio)\n",
    "    \n",
    "print(\"The MP3 file has been saved locally as 'output.mp3'.\")"
   ]
  }
 ],
 "metadata": {
  "kernelspec": {
   "display_name": "Python 3 (ipykernel)",
   "language": "python",
   "name": "python3"
  },
  "language_info": {
   "codemirror_mode": {
    "name": "ipython",
    "version": 3
   },
   "file_extension": ".py",
   "mimetype": "text/x-python",
   "name": "python",
   "nbconvert_exporter": "python",
   "pygments_lexer": "ipython3",
   "version": "3.10.9"
  }
 },
 "nbformat": 4,
 "nbformat_minor": 2
}
